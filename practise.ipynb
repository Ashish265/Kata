{
  "nbformat": 4,
  "nbformat_minor": 0,
  "metadata": {
    "colab": {
      "name": "Untitled3.ipynb",
      "provenance": [],
      "authorship_tag": "ABX9TyOZyh3sby+FXD9EVB1j4rkJ",
      "include_colab_link": true
    },
    "kernelspec": {
      "name": "python3",
      "display_name": "Python 3"
    }
  },
  "cells": [
    {
      "cell_type": "markdown",
      "metadata": {
        "id": "view-in-github",
        "colab_type": "text"
      },
      "source": [
        "<a href=\"https://colab.research.google.com/github/Ashish265/Kata/blob/master/practise.ipynb\" target=\"_parent\"><img src=\"https://colab.research.google.com/assets/colab-badge.svg\" alt=\"Open In Colab\"/></a>"
      ]
    },
    {
      "cell_type": "code",
      "metadata": {
        "id": "sq4xiGT9NnRv",
        "colab_type": "code",
        "colab": {}
      },
      "source": [
        "import pandas as pd\n",
        "import numpy as np"
      ],
      "execution_count": 80,
      "outputs": []
    },
    {
      "cell_type": "code",
      "metadata": {
        "id": "RaiKOfOPPSUD",
        "colab_type": "code",
        "colab": {}
      },
      "source": [
        "b = [[\"123\"] for i in range(1,6)] + [[\"345\"] for i in range(1,6)] + [[\"786\"] for i in range(1,6)]"
      ],
      "execution_count": 81,
      "outputs": []
    },
    {
      "cell_type": "code",
      "metadata": {
        "id": "j2w8ZPMvNsl6",
        "colab_type": "code",
        "colab": {}
      },
      "source": [
        "df = pd.DataFrame([[i]for i in range(1,16)])"
      ],
      "execution_count": 82,
      "outputs": []
    },
    {
      "cell_type": "code",
      "metadata": {
        "id": "s-W4ER8zOb0m",
        "colab_type": "code",
        "colab": {}
      },
      "source": [
        "df1 = pd.DataFrame(b)"
      ],
      "execution_count": 83,
      "outputs": []
    },
    {
      "cell_type": "code",
      "metadata": {
        "id": "Y4SIXCVxQN2f",
        "colab_type": "code",
        "colab": {
          "base_uri": "https://localhost:8080/",
          "height": 514
        },
        "outputId": "f5c57929-8cbf-49e2-d3fd-2bc2098a31ba"
      },
      "source": [
        "df1"
      ],
      "execution_count": 84,
      "outputs": [
        {
          "output_type": "execute_result",
          "data": {
            "text/html": [
              "<div>\n",
              "<style scoped>\n",
              "    .dataframe tbody tr th:only-of-type {\n",
              "        vertical-align: middle;\n",
              "    }\n",
              "\n",
              "    .dataframe tbody tr th {\n",
              "        vertical-align: top;\n",
              "    }\n",
              "\n",
              "    .dataframe thead th {\n",
              "        text-align: right;\n",
              "    }\n",
              "</style>\n",
              "<table border=\"1\" class=\"dataframe\">\n",
              "  <thead>\n",
              "    <tr style=\"text-align: right;\">\n",
              "      <th></th>\n",
              "      <th>0</th>\n",
              "    </tr>\n",
              "  </thead>\n",
              "  <tbody>\n",
              "    <tr>\n",
              "      <th>0</th>\n",
              "      <td>123</td>\n",
              "    </tr>\n",
              "    <tr>\n",
              "      <th>1</th>\n",
              "      <td>123</td>\n",
              "    </tr>\n",
              "    <tr>\n",
              "      <th>2</th>\n",
              "      <td>123</td>\n",
              "    </tr>\n",
              "    <tr>\n",
              "      <th>3</th>\n",
              "      <td>123</td>\n",
              "    </tr>\n",
              "    <tr>\n",
              "      <th>4</th>\n",
              "      <td>123</td>\n",
              "    </tr>\n",
              "    <tr>\n",
              "      <th>5</th>\n",
              "      <td>345</td>\n",
              "    </tr>\n",
              "    <tr>\n",
              "      <th>6</th>\n",
              "      <td>345</td>\n",
              "    </tr>\n",
              "    <tr>\n",
              "      <th>7</th>\n",
              "      <td>345</td>\n",
              "    </tr>\n",
              "    <tr>\n",
              "      <th>8</th>\n",
              "      <td>345</td>\n",
              "    </tr>\n",
              "    <tr>\n",
              "      <th>9</th>\n",
              "      <td>345</td>\n",
              "    </tr>\n",
              "    <tr>\n",
              "      <th>10</th>\n",
              "      <td>786</td>\n",
              "    </tr>\n",
              "    <tr>\n",
              "      <th>11</th>\n",
              "      <td>786</td>\n",
              "    </tr>\n",
              "    <tr>\n",
              "      <th>12</th>\n",
              "      <td>786</td>\n",
              "    </tr>\n",
              "    <tr>\n",
              "      <th>13</th>\n",
              "      <td>786</td>\n",
              "    </tr>\n",
              "    <tr>\n",
              "      <th>14</th>\n",
              "      <td>786</td>\n",
              "    </tr>\n",
              "  </tbody>\n",
              "</table>\n",
              "</div>"
            ],
            "text/plain": [
              "      0\n",
              "0   123\n",
              "1   123\n",
              "2   123\n",
              "3   123\n",
              "4   123\n",
              "5   345\n",
              "6   345\n",
              "7   345\n",
              "8   345\n",
              "9   345\n",
              "10  786\n",
              "11  786\n",
              "12  786\n",
              "13  786\n",
              "14  786"
            ]
          },
          "metadata": {
            "tags": []
          },
          "execution_count": 84
        }
      ]
    },
    {
      "cell_type": "code",
      "metadata": {
        "id": "_7xfDz_MQ-do",
        "colab_type": "code",
        "colab": {}
      },
      "source": [
        "page = [1,2,1,3,4,1,3,7,5,2,2,4,6,8,10]"
      ],
      "execution_count": 85,
      "outputs": []
    },
    {
      "cell_type": "code",
      "metadata": {
        "id": "aUCcyWh_REh9",
        "colab_type": "code",
        "colab": {}
      },
      "source": [
        "time = [\"12:30:05\",\n",
        "        \"12:33:07\",\n",
        "        \"12:34:15\",\n",
        "        \"12:38:17\",\n",
        "        \"12:45:06\",\n",
        "        \"13:13:05\",\n",
        "        \"14:33:07\",\n",
        "        \"13:34:15\",\n",
        "        \"12:58:17\",\n",
        "        \"12:55:06\",\n",
        "        \"02:00:47\",\n",
        "        \"14:08:55\",\n",
        "        \"08:57:08\",\n",
        "        \"17:47:06\",\"08:30:38\"]"
      ],
      "execution_count": 86,
      "outputs": []
    },
    {
      "cell_type": "code",
      "metadata": {
        "id": "RwCcSD6zQsMF",
        "colab_type": "code",
        "colab": {}
      },
      "source": [
        "df_page= pd.DataFrame([[i]for i in page])"
      ],
      "execution_count": 87,
      "outputs": []
    },
    {
      "cell_type": "code",
      "metadata": {
        "id": "LpSCHxOKQs0k",
        "colab_type": "code",
        "colab": {}
      },
      "source": [
        "df_time= pd.DataFrame([[i]for i in time])"
      ],
      "execution_count": 88,
      "outputs": []
    },
    {
      "cell_type": "code",
      "metadata": {
        "id": "CeVqdwgeSaNe",
        "colab_type": "code",
        "colab": {
          "base_uri": "https://localhost:8080/",
          "height": 514
        },
        "outputId": "aef9cbe2-627e-4633-8502-4f48b51d0558"
      },
      "source": [
        "df_time"
      ],
      "execution_count": 89,
      "outputs": [
        {
          "output_type": "execute_result",
          "data": {
            "text/html": [
              "<div>\n",
              "<style scoped>\n",
              "    .dataframe tbody tr th:only-of-type {\n",
              "        vertical-align: middle;\n",
              "    }\n",
              "\n",
              "    .dataframe tbody tr th {\n",
              "        vertical-align: top;\n",
              "    }\n",
              "\n",
              "    .dataframe thead th {\n",
              "        text-align: right;\n",
              "    }\n",
              "</style>\n",
              "<table border=\"1\" class=\"dataframe\">\n",
              "  <thead>\n",
              "    <tr style=\"text-align: right;\">\n",
              "      <th></th>\n",
              "      <th>0</th>\n",
              "    </tr>\n",
              "  </thead>\n",
              "  <tbody>\n",
              "    <tr>\n",
              "      <th>0</th>\n",
              "      <td>12:30:05</td>\n",
              "    </tr>\n",
              "    <tr>\n",
              "      <th>1</th>\n",
              "      <td>12:33:07</td>\n",
              "    </tr>\n",
              "    <tr>\n",
              "      <th>2</th>\n",
              "      <td>12:34:15</td>\n",
              "    </tr>\n",
              "    <tr>\n",
              "      <th>3</th>\n",
              "      <td>12:38:17</td>\n",
              "    </tr>\n",
              "    <tr>\n",
              "      <th>4</th>\n",
              "      <td>12:45:06</td>\n",
              "    </tr>\n",
              "    <tr>\n",
              "      <th>5</th>\n",
              "      <td>13:13:05</td>\n",
              "    </tr>\n",
              "    <tr>\n",
              "      <th>6</th>\n",
              "      <td>14:33:07</td>\n",
              "    </tr>\n",
              "    <tr>\n",
              "      <th>7</th>\n",
              "      <td>13:34:15</td>\n",
              "    </tr>\n",
              "    <tr>\n",
              "      <th>8</th>\n",
              "      <td>12:58:17</td>\n",
              "    </tr>\n",
              "    <tr>\n",
              "      <th>9</th>\n",
              "      <td>12:55:06</td>\n",
              "    </tr>\n",
              "    <tr>\n",
              "      <th>10</th>\n",
              "      <td>02:00:47</td>\n",
              "    </tr>\n",
              "    <tr>\n",
              "      <th>11</th>\n",
              "      <td>14:08:55</td>\n",
              "    </tr>\n",
              "    <tr>\n",
              "      <th>12</th>\n",
              "      <td>08:57:08</td>\n",
              "    </tr>\n",
              "    <tr>\n",
              "      <th>13</th>\n",
              "      <td>17:47:06</td>\n",
              "    </tr>\n",
              "    <tr>\n",
              "      <th>14</th>\n",
              "      <td>08:30:38</td>\n",
              "    </tr>\n",
              "  </tbody>\n",
              "</table>\n",
              "</div>"
            ],
            "text/plain": [
              "           0\n",
              "0   12:30:05\n",
              "1   12:33:07\n",
              "2   12:34:15\n",
              "3   12:38:17\n",
              "4   12:45:06\n",
              "5   13:13:05\n",
              "6   14:33:07\n",
              "7   13:34:15\n",
              "8   12:58:17\n",
              "9   12:55:06\n",
              "10  02:00:47\n",
              "11  14:08:55\n",
              "12  08:57:08\n",
              "13  17:47:06\n",
              "14  08:30:38"
            ]
          },
          "metadata": {
            "tags": []
          },
          "execution_count": 89
        }
      ]
    },
    {
      "cell_type": "code",
      "metadata": {
        "id": "03FBqZagSi3T",
        "colab_type": "code",
        "colab": {}
      },
      "source": [
        "df.rename(columns = {0:\"ID\"},inplace=True)"
      ],
      "execution_count": 90,
      "outputs": []
    },
    {
      "cell_type": "code",
      "metadata": {
        "id": "vRGGDqe2TLZa",
        "colab_type": "code",
        "colab": {}
      },
      "source": [
        "df1.rename(columns = {0:\"user_ID\"},inplace=True)"
      ],
      "execution_count": 91,
      "outputs": []
    },
    {
      "cell_type": "code",
      "metadata": {
        "id": "z77GvYLPTQ3e",
        "colab_type": "code",
        "colab": {}
      },
      "source": [
        "df_page.rename(columns = {0:\"page_id\"},inplace=True)"
      ],
      "execution_count": 92,
      "outputs": []
    },
    {
      "cell_type": "code",
      "metadata": {
        "id": "PrpbKYPGTQ7i",
        "colab_type": "code",
        "colab": {}
      },
      "source": [
        "df_time.rename(columns={0:\"page_start_time\"},inplace=True)"
      ],
      "execution_count": 93,
      "outputs": []
    },
    {
      "cell_type": "code",
      "metadata": {
        "id": "3hdMnHIhSkuj",
        "colab_type": "code",
        "colab": {}
      },
      "source": [
        "df_final = pd.concat([df,df1,df_page,df_time],axis=1)"
      ],
      "execution_count": 94,
      "outputs": []
    },
    {
      "cell_type": "code",
      "metadata": {
        "id": "FpBHURUeS69c",
        "colab_type": "code",
        "colab": {
          "base_uri": "https://localhost:8080/",
          "height": 514
        },
        "outputId": "c7410246-325b-4346-985a-cf3ac162d36a"
      },
      "source": [
        "df_final"
      ],
      "execution_count": 95,
      "outputs": [
        {
          "output_type": "execute_result",
          "data": {
            "text/html": [
              "<div>\n",
              "<style scoped>\n",
              "    .dataframe tbody tr th:only-of-type {\n",
              "        vertical-align: middle;\n",
              "    }\n",
              "\n",
              "    .dataframe tbody tr th {\n",
              "        vertical-align: top;\n",
              "    }\n",
              "\n",
              "    .dataframe thead th {\n",
              "        text-align: right;\n",
              "    }\n",
              "</style>\n",
              "<table border=\"1\" class=\"dataframe\">\n",
              "  <thead>\n",
              "    <tr style=\"text-align: right;\">\n",
              "      <th></th>\n",
              "      <th>ID</th>\n",
              "      <th>user_ID</th>\n",
              "      <th>page_id</th>\n",
              "      <th>page_start_time</th>\n",
              "    </tr>\n",
              "  </thead>\n",
              "  <tbody>\n",
              "    <tr>\n",
              "      <th>0</th>\n",
              "      <td>1</td>\n",
              "      <td>123</td>\n",
              "      <td>1</td>\n",
              "      <td>12:30:05</td>\n",
              "    </tr>\n",
              "    <tr>\n",
              "      <th>1</th>\n",
              "      <td>2</td>\n",
              "      <td>123</td>\n",
              "      <td>2</td>\n",
              "      <td>12:33:07</td>\n",
              "    </tr>\n",
              "    <tr>\n",
              "      <th>2</th>\n",
              "      <td>3</td>\n",
              "      <td>123</td>\n",
              "      <td>1</td>\n",
              "      <td>12:34:15</td>\n",
              "    </tr>\n",
              "    <tr>\n",
              "      <th>3</th>\n",
              "      <td>4</td>\n",
              "      <td>123</td>\n",
              "      <td>3</td>\n",
              "      <td>12:38:17</td>\n",
              "    </tr>\n",
              "    <tr>\n",
              "      <th>4</th>\n",
              "      <td>5</td>\n",
              "      <td>123</td>\n",
              "      <td>4</td>\n",
              "      <td>12:45:06</td>\n",
              "    </tr>\n",
              "    <tr>\n",
              "      <th>5</th>\n",
              "      <td>6</td>\n",
              "      <td>345</td>\n",
              "      <td>1</td>\n",
              "      <td>13:13:05</td>\n",
              "    </tr>\n",
              "    <tr>\n",
              "      <th>6</th>\n",
              "      <td>7</td>\n",
              "      <td>345</td>\n",
              "      <td>3</td>\n",
              "      <td>14:33:07</td>\n",
              "    </tr>\n",
              "    <tr>\n",
              "      <th>7</th>\n",
              "      <td>8</td>\n",
              "      <td>345</td>\n",
              "      <td>7</td>\n",
              "      <td>13:34:15</td>\n",
              "    </tr>\n",
              "    <tr>\n",
              "      <th>8</th>\n",
              "      <td>9</td>\n",
              "      <td>345</td>\n",
              "      <td>5</td>\n",
              "      <td>12:58:17</td>\n",
              "    </tr>\n",
              "    <tr>\n",
              "      <th>9</th>\n",
              "      <td>10</td>\n",
              "      <td>345</td>\n",
              "      <td>2</td>\n",
              "      <td>12:55:06</td>\n",
              "    </tr>\n",
              "    <tr>\n",
              "      <th>10</th>\n",
              "      <td>11</td>\n",
              "      <td>786</td>\n",
              "      <td>2</td>\n",
              "      <td>02:00:47</td>\n",
              "    </tr>\n",
              "    <tr>\n",
              "      <th>11</th>\n",
              "      <td>12</td>\n",
              "      <td>786</td>\n",
              "      <td>4</td>\n",
              "      <td>14:08:55</td>\n",
              "    </tr>\n",
              "    <tr>\n",
              "      <th>12</th>\n",
              "      <td>13</td>\n",
              "      <td>786</td>\n",
              "      <td>6</td>\n",
              "      <td>08:57:08</td>\n",
              "    </tr>\n",
              "    <tr>\n",
              "      <th>13</th>\n",
              "      <td>14</td>\n",
              "      <td>786</td>\n",
              "      <td>8</td>\n",
              "      <td>17:47:06</td>\n",
              "    </tr>\n",
              "    <tr>\n",
              "      <th>14</th>\n",
              "      <td>15</td>\n",
              "      <td>786</td>\n",
              "      <td>10</td>\n",
              "      <td>08:30:38</td>\n",
              "    </tr>\n",
              "  </tbody>\n",
              "</table>\n",
              "</div>"
            ],
            "text/plain": [
              "    ID user_ID  page_id page_start_time\n",
              "0    1     123        1        12:30:05\n",
              "1    2     123        2        12:33:07\n",
              "2    3     123        1        12:34:15\n",
              "3    4     123        3        12:38:17\n",
              "4    5     123        4        12:45:06\n",
              "5    6     345        1        13:13:05\n",
              "6    7     345        3        14:33:07\n",
              "7    8     345        7        13:34:15\n",
              "8    9     345        5        12:58:17\n",
              "9   10     345        2        12:55:06\n",
              "10  11     786        2        02:00:47\n",
              "11  12     786        4        14:08:55\n",
              "12  13     786        6        08:57:08\n",
              "13  14     786        8        17:47:06\n",
              "14  15     786       10        08:30:38"
            ]
          },
          "metadata": {
            "tags": []
          },
          "execution_count": 95
        }
      ]
    },
    {
      "cell_type": "code",
      "metadata": {
        "id": "7-VXtk94UOjI",
        "colab_type": "code",
        "colab": {}
      },
      "source": [
        "df_final['page_start_time'] = pd.to_datetime(df_final['page_start_time'],format= '%H:%M:%S' ).dt.time"
      ],
      "execution_count": 96,
      "outputs": []
    },
    {
      "cell_type": "code",
      "metadata": {
        "id": "PCdQg9WuS8Ez",
        "colab_type": "code",
        "colab": {}
      },
      "source": [
        "df_final.reset_index(inplace=True,drop=True)"
      ],
      "execution_count": 97,
      "outputs": []
    },
    {
      "cell_type": "code",
      "metadata": {
        "id": "MXJEPlg-VdLk",
        "colab_type": "code",
        "colab": {}
      },
      "source": [
        ""
      ],
      "execution_count": null,
      "outputs": []
    }
  ]
}